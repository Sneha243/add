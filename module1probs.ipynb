{
  "nbformat": 4,
  "nbformat_minor": 0,
  "metadata": {
    "colab": {
      "name": "module1probs.ipynb",
      "provenance": [],
      "collapsed_sections": [],
      "authorship_tag": "ABX9TyOILF8pBgAg69E5OglnKy04",
      "include_colab_link": true
    },
    "kernelspec": {
      "name": "python3",
      "display_name": "Python 3"
    },
    "language_info": {
      "name": "python"
    }
  },
  "cells": [
    {
      "cell_type": "markdown",
      "metadata": {
        "id": "view-in-github",
        "colab_type": "text"
      },
      "source": [
        "<a href=\"https://colab.research.google.com/github/Sneha243/add/blob/module1/module1probs.ipynb\" target=\"_parent\"><img src=\"https://colab.research.google.com/assets/colab-badge.svg\" alt=\"Open In Colab\"/></a>"
      ]
    },
    {
      "cell_type": "markdown",
      "source": [
        "###write a program to print prime numbers in given range by using function  def prime(a,b)."
      ],
      "metadata": {
        "id": "C7rKFzlzdkXx"
      }
    },
    {
      "cell_type": "code",
      "source": [
        "def prime():\n",
        "  a=int(input())\n",
        "  b=int(input())\n",
        "  for i in range(a,b+1):\n",
        "    if i>1:\n",
        "      for j in range(2,i):\n",
        "        if(i%j==0):\n",
        "          break\n",
        "      else:\n",
        "        print(i,end=\" \")\n",
        "prime();"
      ],
      "metadata": {
        "id": "d-s-jk2WdnSA",
        "colab": {
          "base_uri": "https://localhost:8080/"
        },
        "outputId": "f830c9d0-d573-469a-d407-f9370d061333"
      },
      "execution_count": null,
      "outputs": [
        {
          "output_type": "stream",
          "name": "stdout",
          "text": [
            "1\n",
            "30\n",
            "2 3 5 7 11 13 17 19 23 29 "
          ]
        }
      ]
    },
    {
      "cell_type": "markdown",
      "source": [
        ""
      ],
      "metadata": {
        "id": "bidykdHkHiaK"
      }
    },
    {
      "cell_type": "markdown",
      "source": [
        "###2. WAP to read any month in integer and display days for that month"
      ],
      "metadata": {
        "id": "bx-aqnYsgMTB"
      }
    },
    {
      "cell_type": "code",
      "source": [
        "a=int(input())\n",
        "if(a==1):\n",
        "  print(\"january\")\n",
        "elif(a==2):\n",
        "  print(\"Feb\")\n",
        "elif(a==3):\n",
        "  print(\"mar\")\n",
        "elif(a==4):\n",
        "  print(\"apr\")\n",
        "elif(a==5):\n",
        "  print(\"may\")\n",
        "elif(a==6):\n",
        "  print(\"june\")\n",
        "elif(a==7):\n",
        "  print(\"july\")\n",
        "elif(a==8):\n",
        "  print(\"aug\")\n",
        "elif(a==9):\n",
        "  print(\"september\")\n",
        "elif(a==10):\n",
        "  print(\"oct\")\n",
        "elif(a==11):\n",
        "  print(\"nov\")\n",
        "elif(a==2):\n",
        "  print(\"dec\")\n",
        "else:\n",
        "  print('invalid month')\n"
      ],
      "metadata": {
        "id": "cW7sHihTgRE5"
      },
      "execution_count": null,
      "outputs": []
    },
    {
      "cell_type": "markdown",
      "source": [
        "###wap to print even length words in a string"
      ],
      "metadata": {
        "id": "iWEgwatKlnQ5"
      }
    },
    {
      "cell_type": "code",
      "source": [
        "a=str(input())\n",
        "b=a.split(' ')\n",
        "for i in b:\n",
        "  if(len(i)%2==0):\n",
        "    print(i)"
      ],
      "metadata": {
        "id": "pXoa4TFkl0A4",
        "colab": {
          "base_uri": "https://localhost:8080/"
        },
        "outputId": "32e4d63e-851c-49c5-dee4-053acfc93ac0"
      },
      "execution_count": null,
      "outputs": [
        {
          "output_type": "stream",
          "name": "stdout",
          "text": [
            "i am an girl\n",
            "am\n",
            "an\n",
            "girl\n"
          ]
        }
      ]
    },
    {
      "cell_type": "markdown",
      "source": [
        "### wAP to capitalize the first and last letter in the word."
      ],
      "metadata": {
        "id": "XNDt5vq7RhzV"
      }
    },
    {
      "cell_type": "code",
      "source": [
        "a=\"sneha\"\n",
        "b=a.capitalize()\n",
        "print(b)"
      ],
      "metadata": {
        "colab": {
          "base_uri": "https://localhost:8080/"
        },
        "id": "mdFIei4TRplt",
        "outputId": "1a5478f2-2164-4362-fa51-4f3853c48276"
      },
      "execution_count": null,
      "outputs": [
        {
          "output_type": "stream",
          "name": "stdout",
          "text": [
            "Sneha\n"
          ]
        }
      ]
    },
    {
      "cell_type": "markdown",
      "source": [
        "###wap to read a string from user display 1st character of each word with a capital letter."
      ],
      "metadata": {
        "id": "XlXRAnMSUCms"
      }
    },
    {
      "cell_type": "code",
      "source": [
        "a=\"i am sneha\"\n",
        "b=a.title()\n",
        "print(b)"
      ],
      "metadata": {
        "colab": {
          "base_uri": "https://localhost:8080/"
        },
        "id": "If3H-zFPUjbL",
        "outputId": "6876537c-3744-4e90-cdf3-ac223c1236e7"
      },
      "execution_count": null,
      "outputs": [
        {
          "output_type": "stream",
          "name": "stdout",
          "text": [
            "I Am Sneha\n"
          ]
        }
      ]
    },
    {
      "cell_type": "markdown",
      "source": [
        "###wAP TO CONVERT A LIST OF MULTIPLE INTEGERS INTO SINGLE INTEGERS."
      ],
      "metadata": {
        "id": "1VfnEFvzVVyi"
      }
    },
    {
      "cell_type": "code",
      "source": [
        "a=[1,2,3]\n",
        "r=0\n",
        "for i in a:\n",
        "  r\n"
      ],
      "metadata": {
        "id": "y4Nnd7b0VmQS"
      },
      "execution_count": null,
      "outputs": []
    },
    {
      "cell_type": "markdown",
      "source": [
        "###wap to find power of number with recurtion without recurtion...n=2 p=3."
      ],
      "metadata": {
        "id": "jpYP89qFXUXI"
      }
    },
    {
      "cell_type": "code",
      "source": [
        "def pow(n,p):\n",
        "  if p==0:\n",
        "      return 1\n",
        "  else:\n",
        "    return (n*pow(n,p-1))\n",
        "\n",
        "n=int(input())\n",
        "p=int(input())\n",
        "print(pow(n,p))\n"
      ],
      "metadata": {
        "colab": {
          "base_uri": "https://localhost:8080/"
        },
        "id": "zBkBq6CjXfbR",
        "outputId": "2784a2a1-8052-4421-cc42-2cb4cd361e26"
      },
      "execution_count": null,
      "outputs": [
        {
          "output_type": "stream",
          "name": "stdout",
          "text": [
            "2\n",
            "3\n",
            "8\n"
          ]
        }
      ]
    },
    {
      "cell_type": "markdown",
      "source": [
        "###wap to sort tuples by total digits input: list=[(3,4,6,723],(1,2),[134,234,34)]."
      ],
      "metadata": {
        "id": "Q16XMUCUZHMZ"
      }
    },
    {
      "cell_type": "code",
      "source": [
        "list=[(3,4,6,723),(1,2),(134,234,34)]\n",
        "list.sort()\n",
        "print(list)"
      ],
      "metadata": {
        "colab": {
          "base_uri": "https://localhost:8080/"
        },
        "id": "4fGHDeB_ZNWx",
        "outputId": "76491323-bfe7-40fe-caf7-3431cff4f9bc"
      },
      "execution_count": null,
      "outputs": [
        {
          "output_type": "stream",
          "name": "stdout",
          "text": [
            "[(1, 2), (3, 4, 6, 723), (134, 234, 34)]\n"
          ]
        }
      ]
    },
    {
      "cell_type": "markdown",
      "source": [
        "###take 5 subjects marks from user and display the grade of the student "
      ],
      "metadata": {
        "id": "oStQlRrxaQJw"
      }
    },
    {
      "cell_type": "code",
      "source": [
        "a=int(input())\n",
        "b=int(input())\n",
        "c=int(input())\n",
        "d=int(input())\n",
        "e=int(input())\n",
        "t=(a+b+c+d+e)/5\n",
        "if(t<=100 and t>=90):\n",
        "  print(\"A grade\")\n",
        "elif(t<=89and t>=80):\n",
        "  print(\"B grade\")\n",
        "elif(t<=79and t>=70):\n",
        "  print(\"C grade\")\n",
        "elif(t<=54and t>=45):\n",
        "  print(\"D grade\")\n",
        "else:\n",
        "  print(\"FAIL\")\n"
      ],
      "metadata": {
        "id": "nHquxRbLaUNH",
        "colab": {
          "base_uri": "https://localhost:8080/"
        },
        "outputId": "b059e1d0-e666-44e9-de03-f678da15f085"
      },
      "execution_count": null,
      "outputs": [
        {
          "output_type": "stream",
          "name": "stdout",
          "text": [
            "98\n",
            "87\n",
            "45\n",
            "98\n",
            "23\n",
            "C grade\n"
          ]
        }
      ]
    },
    {
      "cell_type": "markdown",
      "source": [
        "###wap that prints 1 if all the 3 given numbers are in acending order otherwise print 0"
      ],
      "metadata": {
        "id": "7W511a57atXQ"
      }
    },
    {
      "cell_type": "code",
      "source": [
        "a=int(input())\n",
        "b=int(input())\n",
        "c=int(input())\n",
        "if(a<b and b<c):\n",
        "  print(\"1\")\n",
        "else:\n",
        "  print(\"0\")\n"
      ],
      "metadata": {
        "colab": {
          "base_uri": "https://localhost:8080/"
        },
        "id": "xrqH5x3eayFn",
        "outputId": "79fddd95-4289-4ba1-9dd1-87b849f7e169"
      },
      "execution_count": null,
      "outputs": [
        {
          "output_type": "stream",
          "name": "stdout",
          "text": [
            "12\n",
            "34\n",
            "67\n",
            "1\n"
          ]
        }
      ]
    },
    {
      "cell_type": "markdown",
      "source": [
        "###check given number is perfect num or not."
      ],
      "metadata": {
        "id": "XCGvJtTZbpHf"
      }
    },
    {
      "cell_type": "code",
      "source": [
        "a=int(input())\n",
        "s=0\n",
        "for i in range(1,(a//2+1)):\n",
        "  if a%i==0:\n",
        "    s=s+i\n",
        "    \n",
        "if(s==n):\n",
        "  print(\"perfect number\")\n",
        "else:\n",
        "  print(\"not an perfect number\")"
      ],
      "metadata": {
        "colab": {
          "base_uri": "https://localhost:8080/"
        },
        "id": "U_W4Kyijbx4Q",
        "outputId": "e48d35b2-ae05-40b7-c78b-e4e89c713f0d"
      },
      "execution_count": null,
      "outputs": [
        {
          "output_type": "stream",
          "name": "stdout",
          "text": [
            "6\n",
            "not an perfect number\n"
          ]
        }
      ]
    },
    {
      "cell_type": "markdown",
      "source": [
        "###check given string is palindrome or not.\"malayalam\"."
      ],
      "metadata": {
        "id": "XsZaRldye3QG"
      }
    },
    {
      "cell_type": "code",
      "source": [
        "a=input(\"enter a word \")\n",
        "b=a[::-1]\n",
        "if a==b:\n",
        "  print(\"it's a plaindrome\")\n",
        "else :\n",
        "  print(\"it's not a palindrome\")\n",
        "\n"
      ],
      "metadata": {
        "colab": {
          "base_uri": "https://localhost:8080/"
        },
        "id": "ZPIf7ax3jjwY",
        "outputId": "3053c5ce-af03-48b2-d73e-1d08db35c100"
      },
      "execution_count": null,
      "outputs": [
        {
          "output_type": "stream",
          "name": "stdout",
          "text": [
            "enter a word \"malayalam\"\n",
            "it's a plaindrome\n"
          ]
        }
      ]
    },
    {
      "cell_type": "markdown",
      "source": [
        "###find gcd of 2 numbers with and without recursion.input=5,3 output-1"
      ],
      "metadata": {
        "id": "ijjqFqv4ng-1"
      }
    },
    {
      "cell_type": "code",
      "source": [
        "def gcd(a,b):\n",
        "  hcf=1\n",
        "  for i in range (1,b+1):\n",
        "    if (a%i==0)and (b%i==0):\n",
        "      hcf=hcf*i\n",
        "  return hcf\n",
        "a=int(input())\n",
        "b=int(input())\n",
        "print(gcd(a,b))\n"
      ],
      "metadata": {
        "colab": {
          "base_uri": "https://localhost:8080/"
        },
        "id": "BZM2gnzgnv1O",
        "outputId": "81122d71-c42f-4123-b79e-d847906c6efc"
      },
      "execution_count": null,
      "outputs": [
        {
          "output_type": "stream",
          "name": "stdout",
          "text": [
            "5\n",
            "3\n",
            "1\n"
          ]
        }
      ]
    },
    {
      "cell_type": "markdown",
      "source": [
        "###print sum of even digits in a given numbers.input=1234,output=6."
      ],
      "metadata": {
        "id": "Z7lF1is_oNJs"
      }
    },
    {
      "cell_type": "code",
      "source": [
        "a=int(input())\n",
        "s=0\n",
        "for i in range (a):\n",
        "  r=a%10\n",
        "  if r%2==0 :\n",
        "    s+=r\n",
        "  a=a//10\n",
        "print(s)\n"
      ],
      "metadata": {
        "colab": {
          "base_uri": "https://localhost:8080/"
        },
        "id": "kxo9RSbPoSj0",
        "outputId": "fcc23775-9fff-4859-e773-c6fe9ce6423d"
      },
      "execution_count": null,
      "outputs": [
        {
          "output_type": "stream",
          "name": "stdout",
          "text": [
            "1235767\n",
            "8\n"
          ]
        }
      ]
    },
    {
      "cell_type": "markdown",
      "source": [
        "###wap the sum of squares of digits of a number given by user.input=123,output=14."
      ],
      "metadata": {
        "id": "CyCb_E8yo9T8"
      }
    },
    {
      "cell_type": "code",
      "source": [
        "a=int(input(\"Enter a number \"))\n",
        "s=0\n",
        "for i in range (a):\n",
        "  r=a%10\n",
        "  r=r*r\n",
        "  s+=r\n",
        "  a=a//10\n",
        "print(s)"
      ],
      "metadata": {
        "colab": {
          "base_uri": "https://localhost:8080/"
        },
        "id": "Hp_JZJxopHfk",
        "outputId": "f8883b9f-100d-4986-b487-446f621e6300"
      },
      "execution_count": null,
      "outputs": [
        {
          "output_type": "stream",
          "name": "stdout",
          "text": [
            "Enter a number 123\n",
            "14\n"
          ]
        }
      ]
    },
    {
      "cell_type": "markdown",
      "source": [
        "###given an integer n,return a list containing 1223334444 and n repeted n times. and u can assume n is 0 or grater."
      ],
      "metadata": {
        "id": "Nuad2of9pQjs"
      }
    },
    {
      "cell_type": "code",
      "source": [
        "n=int(input(\"enter your number :\"))\n",
        "a=[]\n",
        "for i in range (n+1):\n",
        "  for j in range (i):\n",
        "    a.append(i)\n",
        "print(a)"
      ],
      "metadata": {
        "colab": {
          "base_uri": "https://localhost:8080/"
        },
        "id": "qdCtgenNpnaE",
        "outputId": "01346895-a52d-4592-b4f6-f4735fa64497"
      },
      "execution_count": null,
      "outputs": [
        {
          "output_type": "stream",
          "name": "stdout",
          "text": [
            "enter your number :4\n",
            "[1, 2, 2, 3, 3, 3, 4, 4, 4, 4]\n"
          ]
        }
      ]
    },
    {
      "cell_type": "markdown",
      "source": [
        "###print no.of vowel and consonents of given string."
      ],
      "metadata": {
        "id": "-Y4LfXuqp1TT"
      }
    },
    {
      "cell_type": "code",
      "source": [
        "a=input(\"Enter a word \")\n",
        "a=a.lower()\n",
        "c=0\n",
        "v=0\n",
        "if a.isalpha() :\n",
        "  for i in range (len(a)):\n",
        "    if a[i]==\"a\" or a[i]==\"e\" or a[i]==\"i\" or a[i]==\"o\" or a[i]==\"u\" :\n",
        "      v+=1\n",
        "    else :\n",
        "      c+=1\n",
        "  print(f\"vowels are {v} and consonants are {c}\")\n",
        "else :\n",
        "  print(\"Not possible\")"
      ],
      "metadata": {
        "id": "05uy1IUpp_Kz"
      },
      "execution_count": null,
      "outputs": []
    },
    {
      "cell_type": "markdown",
      "source": [
        "###given 2 integers a and b.if a<b print all numbers between a and b in acending order or in decending order."
      ],
      "metadata": {
        "id": "qNDIQEogrfsO"
      }
    },
    {
      "cell_type": "code",
      "source": [
        "a= int(input(\"enter a :\"))\n",
        "b= int(input(\"enter b :\"))\n",
        "if a < b :\n",
        "  for i in range (a,b+1):\n",
        "    print(i,end = \" \")\n",
        "if a > b :\n",
        "  while a>=b :\n",
        "    print(a, end = \" \")\n",
        "    a-=1"
      ],
      "metadata": {
        "id": "eJp7O2EBrjDu"
      },
      "execution_count": null,
      "outputs": []
    },
    {
      "cell_type": "markdown",
      "source": [
        "###max of 3 numbers."
      ],
      "metadata": {
        "id": "Vf2DN1hMrtEI"
      }
    },
    {
      "cell_type": "code",
      "source": [
        "a=int(input())\n",
        "b=int(input())\n",
        "c=int(input())\n",
        "if(a>b and a>c):\n",
        "  print(a)\n",
        "elif(b>a and b>c):\n",
        "  print(b)\n",
        "else:\n",
        "  print(c)"
      ],
      "metadata": {
        "colab": {
          "base_uri": "https://localhost:8080/"
        },
        "id": "ntWNr5zirw_g",
        "outputId": "8df25980-e3ef-4065-ebc6-34a2cf3aacee"
      },
      "execution_count": null,
      "outputs": [
        {
          "output_type": "stream",
          "name": "stdout",
          "text": [
            "3\n",
            "8\n",
            "2\n",
            "8\n"
          ]
        }
      ]
    },
    {
      "cell_type": "markdown",
      "source": [
        "###fibnocci series."
      ],
      "metadata": {
        "id": "hDSjvZbJsVIr"
      }
    },
    {
      "cell_type": "code",
      "source": [
        "n=int(input())\n",
        "a,b= 0, 1\n",
        "print(a,b)\n",
        "for i in range(2,n):\n",
        "    c=a+b\n",
        "    a=b\n",
        "    b=c\n",
        "    print(c)"
      ],
      "metadata": {
        "colab": {
          "base_uri": "https://localhost:8080/"
        },
        "id": "8-xTUtntsm3S",
        "outputId": "1ead619e-e0bf-4bcb-dc4d-eb6c417e0043"
      },
      "execution_count": null,
      "outputs": [
        {
          "output_type": "stream",
          "name": "stdout",
          "text": [
            "8\n",
            "0 1\n",
            "1\n",
            "2\n",
            "3\n",
            "5\n",
            "8\n",
            "13\n"
          ]
        }
      ]
    },
    {
      "cell_type": "markdown",
      "source": [
        "###wap to count the number of strings where the string len is 2 or more and the first and last char are same from given list."
      ],
      "metadata": {
        "id": "SE8fWmIestK5"
      }
    },
    {
      "cell_type": "code",
      "source": [
        "a=input(\"Enter a word \")\n",
        "if a[0]==a[-1]:\n",
        "  print(\"Yes\")\n",
        "else :\n",
        "  print(\"No\")"
      ],
      "metadata": {
        "colab": {
          "base_uri": "https://localhost:8080/"
        },
        "id": "ShAbeUprs0Rq",
        "outputId": "a4be3bae-9769-4ba2-a9f5-249c33ecd99e"
      },
      "execution_count": null,
      "outputs": [
        {
          "output_type": "stream",
          "name": "stdout",
          "text": [
            "Enter a word \"snehs\"\n",
            "Yes\n"
          ]
        }
      ]
    },
    {
      "cell_type": "markdown",
      "source": [
        "###there is walking tract 3km. take input no.of days,no.of rounds trips and total distance in hours and m if the distance <40000\"u need to work more  else \"u done a great job."
      ],
      "metadata": {
        "id": "bpHUFBndtBlx"
      }
    },
    {
      "cell_type": "code",
      "source": [
        "a=int(input(\"Enter days \"))\n",
        "b=int(input(\"Enter round trips/day \"))\n",
        "c=a*b*6000\n",
        "if c>= 40000 :\n",
        "  print(\"Good job\")\n",
        "else :\n",
        "  print(\"Need to walk more\")\n"
      ],
      "metadata": {
        "colab": {
          "base_uri": "https://localhost:8080/"
        },
        "id": "7Ry7RXRTtIgx",
        "outputId": "3293c0f2-547f-49ba-ca96-e13084f6104f"
      },
      "execution_count": null,
      "outputs": [
        {
          "output_type": "stream",
          "name": "stdout",
          "text": [
            "Enter days 30\n",
            "Enter round trips/day 30\n",
            "Good job\n"
          ]
        }
      ]
    },
    {
      "cell_type": "markdown",
      "source": [
        "###given a list of city names whoose length is greater than a given length."
      ],
      "metadata": {
        "id": "ryeQ01ObtxyB"
      }
    },
    {
      "cell_type": "code",
      "source": [
        "l=int(input(\"Enter length to be exceeded \"))\n",
        "u=[]\n",
        "for i in range(int(input(\"Enter no. of cities \"))):\n",
        "  c=input(f\"Enter name of city no.{i+1} \")\n",
        "a=len(c)\n",
        "if a>l:\n",
        "  u.append(c)\n",
        "print(f\"required cities are {u}\")"
      ],
      "metadata": {
        "colab": {
          "base_uri": "https://localhost:8080/"
        },
        "id": "jEuQIlfet4LB",
        "outputId": "21dc0516-4505-43e1-c2d7-4c8374ad2bb3"
      },
      "execution_count": null,
      "outputs": [
        {
          "output_type": "stream",
          "name": "stdout",
          "text": [
            "Enter length to be exceeded 4\n",
            "Enter no. of cities 3\n",
            "Enter name of city no.1 goa\n",
            "Enter name of city no.2 bihar\n",
            "Enter name of city no.3 mumbai\n",
            "required cities are ['mumbai']\n"
          ]
        }
      ]
    }
  ]
}